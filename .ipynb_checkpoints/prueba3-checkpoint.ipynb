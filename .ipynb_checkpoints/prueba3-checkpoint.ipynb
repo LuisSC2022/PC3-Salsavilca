{
 "cells": [
  {
   "cell_type": "code",
   "execution_count": 2,
   "id": "52ecfa41",
   "metadata": {},
   "outputs": [],
   "source": [
    "def factorial(num): \n",
    "    if num < 0: \n",
    "        print(\"No existe factoral de un negativo\")\n",
    "\n",
    "    elif num == 0: \n",
    "        return 1\n",
    "        \n",
    "    else: \n",
    "        fact = 1\n",
    "        while(num > 1): \n",
    "            fact *= num \n",
    "            num -= 1\n",
    "        return fact \n"
   ]
  },
  {
   "cell_type": "code",
   "execution_count": 3,
   "id": "eea7cd10",
   "metadata": {},
   "outputs": [
    {
     "name": "stdout",
     "output_type": "stream",
     "text": [
      "Factorial de  10  es  3628800\n"
     ]
    }
   ],
   "source": [
    "num = 10\n",
    "print(\"Factorial de \",num,\" es \", factorial(num)) "
   ]
  },
  {
   "cell_type": "code",
   "execution_count": 1,
   "id": "ef9f5552",
   "metadata": {},
   "outputs": [
    {
     "name": "stdout",
     "output_type": "stream",
     "text": [
      "Factorial of 5 is 120\n"
     ]
    }
   ],
   "source": [
    "# Agregando otra función recursiva\n",
    "def factorial(n): \n",
    "    return 1 if (n==1 or n==0) else n * factorial(n - 1);  \n",
    "  \n",
    "num = 5; \n",
    "print(\"Factorial of\",num,\"is\", factorial(num))"
   ]
  }
 ],
 "metadata": {
  "kernelspec": {
   "display_name": "Python 3 (ipykernel)",
   "language": "python",
   "name": "python3"
  },
  "language_info": {
   "codemirror_mode": {
    "name": "ipython",
    "version": 3
   },
   "file_extension": ".py",
   "mimetype": "text/x-python",
   "name": "python",
   "nbconvert_exporter": "python",
   "pygments_lexer": "ipython3",
   "version": "3.9.12"
  }
 },
 "nbformat": 4,
 "nbformat_minor": 5
}
